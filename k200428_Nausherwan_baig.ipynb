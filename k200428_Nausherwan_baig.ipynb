{
  "nbformat": 4,
  "nbformat_minor": 0,
  "metadata": {
    "colab": {
      "provenance": []
    },
    "kernelspec": {
      "name": "python3",
      "display_name": "Python 3"
    },
    "language_info": {
      "name": "python"
    }
  },
  "cells": [
    {
      "cell_type": "markdown",
      "source": [
        "**RSA** **ALGORITHM**"
      ],
      "metadata": {
        "id": "zVUz-ZrVUTL9"
      }
    },
    {
      "cell_type": "code",
      "execution_count": 57,
      "metadata": {
        "colab": {
          "base_uri": "https://localhost:8080/"
        },
        "id": "blAALM5aSuFr",
        "outputId": "c65887fd-899b-4555-da79-077be3c34b89"
      },
      "outputs": [
        {
          "output_type": "stream",
          "name": "stdout",
          "text": [
            "Enter a prime number p: 65537\n",
            "Enter a prime number q: 65539\n",
            "Enter a public exponent e: 17\n",
            "\n",
            " RSA algorithm Public Key (e, n): (17, 4295229443)\n",
            "\n",
            "\n",
            " RSA algorithm Private Key (d, n): (2779181297, 4295229443)\n",
            "\n",
            "Enter a value for encryption: 9876\n",
            "Encrypted value: 2604413438\n",
            "Decrypted value: 9876\n"
          ]
        }
      ],
      "source": [
        "# Function to calculate the greatest common divisor (GCD) of two numbers a and b\n",
        "def gcd(a, b):\n",
        "    while b:\n",
        "        a, b = b, a % b\n",
        "    return a\n",
        "\n",
        "# Function to calculate the modular inverse of a number 'a' with the number modulo 'm'\n",
        "def mod_inverse(a, m):\n",
        "    m0, x0, x1 = m, 0, 1\n",
        "    while a > 1:\n",
        "        q = a // m\n",
        "        m, a = a % m, m\n",
        "        x0, x1 = x1 - q * x0, x0\n",
        "    return x1 + m0 if x1 < 0 else x1\n",
        "\n",
        "# Function to generate an RSA key pair given prime numbers 'p', 'q', and 'e'\n",
        "def generate_rsa_keypair(p, q, e):\n",
        "    n = p * q\n",
        "    phi = (p - 1) * (q - 1)\n",
        "\n",
        "    # Check if 'e' is coprime with 'phi'\n",
        "    if gcd(e, phi) != 1:\n",
        "        raise ValueError(\"e is not coprime with phi.recalculate and enter a different value\")\n",
        "\n",
        "    # Calculate d\n",
        "    d = mod_inverse(e, phi)\n",
        "\n",
        "    # Return the public and private keys\n",
        "    return {\"public_key\": (e, n), \"private_key\": (d, n)}\n",
        "\n",
        "# Function to encrypt a numeric value using the RSA public key\n",
        "def rsa_encrypt(public_key, numeric_value):\n",
        "    e, n = public_key\n",
        "    ciphertext = pow(numeric_value, e, n)\n",
        "    return ciphertext\n",
        "\n",
        "# Function to decrypt a ciphertext using the RSA private key\n",
        "def rsa_decrypt(private_key, ciphertext):\n",
        "    d, n = private_key\n",
        "    decrypted_value = pow(ciphertext, d, n)\n",
        "    return decrypted_value\n",
        "\n",
        "# Input values\n",
        "p = int(input(\"Enter a prime number p: \"))\n",
        "q = int(input(\"Enter a prime number q: \"))\n",
        "e = int(input(\"Enter a public exponent e: \"))\n",
        "\n",
        "# Generate RSA key pair\n",
        "rsa_keys = generate_rsa_keypair(p, q, e)\n",
        "\n",
        "# Display the RSA keys\n",
        "print(\"\\n RSA algorithm Public Key (e, n):\", rsa_keys[\"public_key\"])\n",
        "print(\"\\n\\n RSA algorithm Private Key (d, n):\", rsa_keys[\"private_key\"])\n",
        "\n",
        "# Input numeric value to encrypt\n",
        "numeric_value = int(input(\"\\nEnter a value for encryption: \"))\n",
        "\n",
        "# Encrypt the numeric value using the public key\n",
        "encrypted_value = rsa_encrypt(rsa_keys[\"public_key\"], numeric_value)\n",
        "print(\"Encrypted value:\", encrypted_value)\n",
        "\n",
        "# Decrypt the ciphertext using the private key\n",
        "decrypted_value = rsa_decrypt(rsa_keys[\"private_key\"], encrypted_value)\n",
        "print(\"Decrypted value:\", decrypted_value)\n"
      ]
    }
  ]
}